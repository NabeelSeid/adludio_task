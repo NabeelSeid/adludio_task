{
 "cells": [
  {
   "cell_type": "markdown",
   "metadata": {},
   "source": [
    "### Import Relevant packages"
   ]
  },
  {
   "cell_type": "code",
   "execution_count": 16,
   "metadata": {},
   "outputs": [],
   "source": [
    "import numpy as np\n",
    "import pandas as pd\n",
    "import matplotlib.pyplot as plt\n",
    "import seaborn as sns\n",
    "\n",
    "%matplotlib inline"
   ]
  },
  {
   "cell_type": "markdown",
   "metadata": {},
   "source": [
    "### Read the dataset"
   ]
  },
  {
   "cell_type": "code",
   "execution_count": 17,
   "metadata": {},
   "outputs": [],
   "source": [
    "df = pd.read_csv('./dataset.csv')"
   ]
  },
  {
   "cell_type": "markdown",
   "metadata": {},
   "source": [
    "### Compute click through rate"
   ]
  },
  {
   "cell_type": "code",
   "execution_count": 18,
   "metadata": {},
   "outputs": [],
   "source": [
    "df['click_through_rates'] = df['click-through-event'] / df['impression']"
   ]
  },
  {
   "cell_type": "markdown",
   "metadata": {},
   "source": [
    "### Replace catagorical values with dummy variabels\n",
    "\n",
    "Since region and season are catagorical values and have more than two values we will replace them with dummy variables to compute their correlation with click_through_rates"
   ]
  },
  {
   "cell_type": "code",
   "execution_count": 23,
   "metadata": {},
   "outputs": [],
   "source": [
    "df_dummies_region = pd.get_dummies(df['region'])\n",
    "df_dummies_season = pd.get_dummies(df['season'])\n",
    "\n",
    "del df_dummies_region[df_dummies_region.columns[-1]]\n",
    "del df_dummies_season[df_dummies_season.columns[-1]]\n",
    "\n",
    "df_new = df.copy()\n",
    "del df_new['region'] \n",
    "del df_new['first_key'] \n",
    "del df_new['version'] \n",
    "del df_new['season'] \n",
    "del df_new['vertical'] \n",
    "del df_new['click-through-event']\n",
    "del df_new['first_dropped'] \n",
    "del df_new['impression']\n",
    "\n",
    "df_region = pd.concat([df_new, df_dummies_region], axis=1)\n",
    "df_season = pd.concat([df_new, df_dummies_season], axis=1)"
   ]
  },
  {
   "cell_type": "markdown",
   "metadata": {},
   "source": [
    "### Correlation between region and click through rate"
   ]
  },
  {
   "cell_type": "code",
   "execution_count": 24,
   "metadata": {},
   "outputs": [
    {
     "data": {
      "text/html": [
       "<div>\n",
       "<style scoped>\n",
       "    .dataframe tbody tr th:only-of-type {\n",
       "        vertical-align: middle;\n",
       "    }\n",
       "\n",
       "    .dataframe tbody tr th {\n",
       "        vertical-align: top;\n",
       "    }\n",
       "\n",
       "    .dataframe thead th {\n",
       "        text-align: right;\n",
       "    }\n",
       "</style>\n",
       "<table border=\"1\" class=\"dataframe\">\n",
       "  <thead>\n",
       "    <tr style=\"text-align: right;\">\n",
       "      <th></th>\n",
       "      <th>click_through_rates</th>\n",
       "      <th>Africa</th>\n",
       "      <th>Americas</th>\n",
       "      <th>Asia</th>\n",
       "      <th>Europe</th>\n",
       "      <th>Oceania</th>\n",
       "    </tr>\n",
       "  </thead>\n",
       "  <tbody>\n",
       "    <tr>\n",
       "      <th>click_through_rates</th>\n",
       "      <td>1.000000</td>\n",
       "      <td>-0.020965</td>\n",
       "      <td>0.105448</td>\n",
       "      <td>-0.037462</td>\n",
       "      <td>-0.141266</td>\n",
       "      <td>0.024231</td>\n",
       "    </tr>\n",
       "    <tr>\n",
       "      <th>Africa</th>\n",
       "      <td>-0.020965</td>\n",
       "      <td>1.000000</td>\n",
       "      <td>-0.062936</td>\n",
       "      <td>-0.077779</td>\n",
       "      <td>-0.083496</td>\n",
       "      <td>-0.005850</td>\n",
       "    </tr>\n",
       "    <tr>\n",
       "      <th>Americas</th>\n",
       "      <td>0.105448</td>\n",
       "      <td>-0.062936</td>\n",
       "      <td>1.000000</td>\n",
       "      <td>-0.175069</td>\n",
       "      <td>-0.187938</td>\n",
       "      <td>-0.013168</td>\n",
       "    </tr>\n",
       "    <tr>\n",
       "      <th>Asia</th>\n",
       "      <td>-0.037462</td>\n",
       "      <td>-0.077779</td>\n",
       "      <td>-0.175069</td>\n",
       "      <td>1.000000</td>\n",
       "      <td>-0.232260</td>\n",
       "      <td>-0.016273</td>\n",
       "    </tr>\n",
       "    <tr>\n",
       "      <th>Europe</th>\n",
       "      <td>-0.141266</td>\n",
       "      <td>-0.083496</td>\n",
       "      <td>-0.187938</td>\n",
       "      <td>-0.232260</td>\n",
       "      <td>1.000000</td>\n",
       "      <td>-0.017469</td>\n",
       "    </tr>\n",
       "    <tr>\n",
       "      <th>Oceania</th>\n",
       "      <td>0.024231</td>\n",
       "      <td>-0.005850</td>\n",
       "      <td>-0.013168</td>\n",
       "      <td>-0.016273</td>\n",
       "      <td>-0.017469</td>\n",
       "      <td>1.000000</td>\n",
       "    </tr>\n",
       "  </tbody>\n",
       "</table>\n",
       "</div>"
      ],
      "text/plain": [
       "                     click_through_rates    Africa  Americas      Asia  \\\n",
       "click_through_rates             1.000000 -0.020965  0.105448 -0.037462   \n",
       "Africa                         -0.020965  1.000000 -0.062936 -0.077779   \n",
       "Americas                        0.105448 -0.062936  1.000000 -0.175069   \n",
       "Asia                           -0.037462 -0.077779 -0.175069  1.000000   \n",
       "Europe                         -0.141266 -0.083496 -0.187938 -0.232260   \n",
       "Oceania                         0.024231 -0.005850 -0.013168 -0.016273   \n",
       "\n",
       "                       Europe   Oceania  \n",
       "click_through_rates -0.141266  0.024231  \n",
       "Africa              -0.083496 -0.005850  \n",
       "Americas            -0.187938 -0.013168  \n",
       "Asia                -0.232260 -0.016273  \n",
       "Europe               1.000000 -0.017469  \n",
       "Oceania             -0.017469  1.000000  "
      ]
     },
     "execution_count": 24,
     "metadata": {},
     "output_type": "execute_result"
    }
   ],
   "source": [
    "df_region.corr()"
   ]
  },
  {
   "cell_type": "markdown",
   "metadata": {},
   "source": [
    "### Correlation graph between region and click through rate"
   ]
  },
  {
   "cell_type": "code",
   "execution_count": 37,
   "metadata": {},
   "outputs": [
    {
     "data": {
      "image/png": "[encoded data removed]",
      "text/plain": [
       "<Figure size 432x288 with 2 Axes>"
      ]
     },
     "metadata": {
      "needs_background": "light"
     },
     "output_type": "display_data"
    }
   ],
   "source": [
    "sns.heatmap(df_region.corr(), annot=True)\n",
    "plt.show()"
   ]
  },
  {
   "cell_type": "markdown",
   "metadata": {},
   "source": [
    "All correlation are almost close to zero, that shows there is low corretion between click through rate and region. Among the regions Europe has the highes negative correlation and America has the hight positive correlation."
   ]
  },
  {
   "cell_type": "markdown",
   "metadata": {},
   "source": [
    "### Correlation between season and click through rate"
   ]
  },
  {
   "cell_type": "code",
   "execution_count": 25,
   "metadata": {},
   "outputs": [
    {
     "data": {
      "text/html": [
       "<div>\n",
       "<style scoped>\n",
       "    .dataframe tbody tr th:only-of-type {\n",
       "        vertical-align: middle;\n",
       "    }\n",
       "\n",
       "    .dataframe tbody tr th {\n",
       "        vertical-align: top;\n",
       "    }\n",
       "\n",
       "    .dataframe thead th {\n",
       "        text-align: right;\n",
       "    }\n",
       "</style>\n",
       "<table border=\"1\" class=\"dataframe\">\n",
       "  <thead>\n",
       "    <tr style=\"text-align: right;\">\n",
       "      <th></th>\n",
       "      <th>click_through_rates</th>\n",
       "      <th>Autumn</th>\n",
       "      <th>Hiver</th>\n",
       "      <th>Spring</th>\n",
       "      <th>Summer</th>\n",
       "    </tr>\n",
       "  </thead>\n",
       "  <tbody>\n",
       "    <tr>\n",
       "      <th>click_through_rates</th>\n",
       "      <td>1.000000</td>\n",
       "      <td>-0.045820</td>\n",
       "      <td>-0.073163</td>\n",
       "      <td>0.016066</td>\n",
       "      <td>0.068927</td>\n",
       "    </tr>\n",
       "    <tr>\n",
       "      <th>Autumn</th>\n",
       "      <td>-0.045820</td>\n",
       "      <td>1.000000</td>\n",
       "      <td>-0.138082</td>\n",
       "      <td>-0.236966</td>\n",
       "      <td>-0.378739</td>\n",
       "    </tr>\n",
       "    <tr>\n",
       "      <th>Hiver</th>\n",
       "      <td>-0.073163</td>\n",
       "      <td>-0.138082</td>\n",
       "      <td>1.000000</td>\n",
       "      <td>-0.147519</td>\n",
       "      <td>-0.235778</td>\n",
       "    </tr>\n",
       "    <tr>\n",
       "      <th>Spring</th>\n",
       "      <td>0.016066</td>\n",
       "      <td>-0.236966</td>\n",
       "      <td>-0.147519</td>\n",
       "      <td>1.000000</td>\n",
       "      <td>-0.404622</td>\n",
       "    </tr>\n",
       "    <tr>\n",
       "      <th>Summer</th>\n",
       "      <td>0.068927</td>\n",
       "      <td>-0.378739</td>\n",
       "      <td>-0.235778</td>\n",
       "      <td>-0.404622</td>\n",
       "      <td>1.000000</td>\n",
       "    </tr>\n",
       "  </tbody>\n",
       "</table>\n",
       "</div>"
      ],
      "text/plain": [
       "                     click_through_rates    Autumn     Hiver    Spring  \\\n",
       "click_through_rates             1.000000 -0.045820 -0.073163  0.016066   \n",
       "Autumn                         -0.045820  1.000000 -0.138082 -0.236966   \n",
       "Hiver                          -0.073163 -0.138082  1.000000 -0.147519   \n",
       "Spring                          0.016066 -0.236966 -0.147519  1.000000   \n",
       "Summer                          0.068927 -0.378739 -0.235778 -0.404622   \n",
       "\n",
       "                       Summer  \n",
       "click_through_rates  0.068927  \n",
       "Autumn              -0.378739  \n",
       "Hiver               -0.235778  \n",
       "Spring              -0.404622  \n",
       "Summer               1.000000  "
      ]
     },
     "execution_count": 25,
     "metadata": {},
     "output_type": "execute_result"
    }
   ],
   "source": [
    "df_season.corr()"
   ]
  },
  {
   "cell_type": "markdown",
   "metadata": {},
   "source": [
    "### Correlation graph between season and click through rate"
   ]
  },
  {
   "cell_type": "code",
   "execution_count": 36,
   "metadata": {},
   "outputs": [
    {
     "data": {
      "image/png": "[encoded data removed]",
      "text/plain": [
       "<Figure size 432x288 with 2 Axes>"
      ]
     },
     "metadata": {
      "needs_background": "light"
     },
     "output_type": "display_data"
    }
   ],
   "source": [
    "sns.heatmap(df_season.corr(), annot=True)\n",
    "plt.show()"
   ]
  },
  {
   "cell_type": "markdown",
   "metadata": {},
   "source": [
    "Also here all correlation are almost close to zero, that shows there is low corretion between click through rate and season. Among the seasons Hiver has the highes negative correlation and Summer has the hight positive correlation."
   ]
  }
 ],
 "metadata": {
  "kernelspec": {
   "display_name": "Python 3",
   "language": "python",
   "name": "python3"
  },
  "language_info": {
   "codemirror_mode": {
    "name": "ipython",
    "version": 3
   },
   "file_extension": ".py",
   "mimetype": "text/x-python",
   "name": "python",
   "nbconvert_exporter": "python",
   "pygments_lexer": "ipython3",
   "version": "3.7.6"
  }
 },
 "nbformat": 4,
 "nbformat_minor": 4
}
